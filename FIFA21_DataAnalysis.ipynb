{
 "cells": [
  {
   "cell_type": "markdown",
   "metadata": {},
   "source": [
    "# Exploratory Data Analysis on FIFA 21 Dataset"
   ]
  },
  {
   "cell_type": "markdown",
   "metadata": {},
   "source": [
    "### Import necessary modules"
   ]
  },
  {
   "cell_type": "code",
   "execution_count": 155,
   "metadata": {},
   "outputs": [],
   "source": [
    "import numpy as np\n",
    "import pandas as pd\n",
    "import matplotlib.pyplot as plt"
   ]
  },
  {
   "cell_type": "markdown",
   "metadata": {},
   "source": [
    "### Read the Dataset"
   ]
  },
  {
   "cell_type": "code",
   "execution_count": 156,
   "metadata": {},
   "outputs": [
    {
     "data": {
      "text/html": [
       "<div>\n",
       "<style scoped>\n",
       "    .dataframe tbody tr th:only-of-type {\n",
       "        vertical-align: middle;\n",
       "    }\n",
       "\n",
       "    .dataframe tbody tr th {\n",
       "        vertical-align: top;\n",
       "    }\n",
       "\n",
       "    .dataframe thead th {\n",
       "        text-align: right;\n",
       "    }\n",
       "</style>\n",
       "<table border=\"1\" class=\"dataframe\">\n",
       "  <thead>\n",
       "    <tr style=\"text-align: right;\">\n",
       "      <th></th>\n",
       "      <th>PlayerName</th>\n",
       "      <th>PlayerHeight</th>\n",
       "      <th>PlayerWeight</th>\n",
       "      <th>PotentialRating</th>\n",
       "      <th>BestPositions</th>\n",
       "      <th>BestOverallRating</th>\n",
       "      <th>PlayerValue</th>\n",
       "      <th>Wage</th>\n",
       "      <th>Nationality</th>\n",
       "      <th>Crossing</th>\n",
       "      <th>...</th>\n",
       "      <th>SkillMoves</th>\n",
       "      <th>InternationalReputations</th>\n",
       "      <th>WorkRate</th>\n",
       "      <th>BodyType</th>\n",
       "      <th>Dribbling</th>\n",
       "      <th>Curve</th>\n",
       "      <th>FreekickAccuracy</th>\n",
       "      <th>LongPassing</th>\n",
       "      <th>BallControl</th>\n",
       "      <th>Age</th>\n",
       "    </tr>\n",
       "  </thead>\n",
       "  <tbody>\n",
       "    <tr>\n",
       "      <th>0</th>\n",
       "      <td>Lionel Andrés Messi Cuccittini</td>\n",
       "      <td>170</td>\n",
       "      <td>72</td>\n",
       "      <td>93</td>\n",
       "      <td>RW</td>\n",
       "      <td>93</td>\n",
       "      <td>103500000</td>\n",
       "      <td>560000</td>\n",
       "      <td>Argentina</td>\n",
       "      <td>85</td>\n",
       "      <td>...</td>\n",
       "      <td>4</td>\n",
       "      <td>5</td>\n",
       "      <td>Medium/ Low</td>\n",
       "      <td>Unique</td>\n",
       "      <td>96</td>\n",
       "      <td>93</td>\n",
       "      <td>94</td>\n",
       "      <td>91</td>\n",
       "      <td>96</td>\n",
       "      <td>35</td>\n",
       "    </tr>\n",
       "    <tr>\n",
       "      <th>1</th>\n",
       "      <td>Cristiano Ronaldo dos Santos Aveiro</td>\n",
       "      <td>187</td>\n",
       "      <td>83</td>\n",
       "      <td>92</td>\n",
       "      <td>ST</td>\n",
       "      <td>92</td>\n",
       "      <td>63000000</td>\n",
       "      <td>220000</td>\n",
       "      <td>Portugal</td>\n",
       "      <td>84</td>\n",
       "      <td>...</td>\n",
       "      <td>5</td>\n",
       "      <td>5</td>\n",
       "      <td>High/ Low</td>\n",
       "      <td>Unique</td>\n",
       "      <td>88</td>\n",
       "      <td>81</td>\n",
       "      <td>76</td>\n",
       "      <td>77</td>\n",
       "      <td>92</td>\n",
       "      <td>37</td>\n",
       "    </tr>\n",
       "    <tr>\n",
       "      <th>2</th>\n",
       "      <td>Jan Oblak</td>\n",
       "      <td>188</td>\n",
       "      <td>87</td>\n",
       "      <td>93</td>\n",
       "      <td>GK</td>\n",
       "      <td>91</td>\n",
       "      <td>120000000</td>\n",
       "      <td>125000</td>\n",
       "      <td>Slovenia</td>\n",
       "      <td>13</td>\n",
       "      <td>...</td>\n",
       "      <td>1</td>\n",
       "      <td>3</td>\n",
       "      <td>Medium/ Medium</td>\n",
       "      <td>Unique</td>\n",
       "      <td>12</td>\n",
       "      <td>13</td>\n",
       "      <td>14</td>\n",
       "      <td>40</td>\n",
       "      <td>30</td>\n",
       "      <td>29</td>\n",
       "    </tr>\n",
       "    <tr>\n",
       "      <th>3</th>\n",
       "      <td>Kevin De Bruyne</td>\n",
       "      <td>181</td>\n",
       "      <td>70</td>\n",
       "      <td>91</td>\n",
       "      <td>CAM</td>\n",
       "      <td>91</td>\n",
       "      <td>129000000</td>\n",
       "      <td>370000</td>\n",
       "      <td>Belgium</td>\n",
       "      <td>94</td>\n",
       "      <td>...</td>\n",
       "      <td>4</td>\n",
       "      <td>4</td>\n",
       "      <td>High/ High</td>\n",
       "      <td>Unique</td>\n",
       "      <td>88</td>\n",
       "      <td>85</td>\n",
       "      <td>83</td>\n",
       "      <td>93</td>\n",
       "      <td>92</td>\n",
       "      <td>31</td>\n",
       "    </tr>\n",
       "    <tr>\n",
       "      <th>4</th>\n",
       "      <td>Neymar da Silva Santos Júnior</td>\n",
       "      <td>175</td>\n",
       "      <td>68</td>\n",
       "      <td>91</td>\n",
       "      <td>LW</td>\n",
       "      <td>91</td>\n",
       "      <td>132000000</td>\n",
       "      <td>270000</td>\n",
       "      <td>Brazil</td>\n",
       "      <td>85</td>\n",
       "      <td>...</td>\n",
       "      <td>5</td>\n",
       "      <td>5</td>\n",
       "      <td>High/ Medium</td>\n",
       "      <td>Unique</td>\n",
       "      <td>95</td>\n",
       "      <td>88</td>\n",
       "      <td>89</td>\n",
       "      <td>81</td>\n",
       "      <td>95</td>\n",
       "      <td>30</td>\n",
       "    </tr>\n",
       "  </tbody>\n",
       "</table>\n",
       "<p>5 rows × 50 columns</p>\n",
       "</div>"
      ],
      "text/plain": [
       "                            PlayerName  PlayerHeight  PlayerWeight  \\\n",
       "0       Lionel Andrés Messi Cuccittini           170            72   \n",
       "1  Cristiano Ronaldo dos Santos Aveiro           187            83   \n",
       "2                            Jan Oblak           188            87   \n",
       "3                      Kevin De Bruyne           181            70   \n",
       "4        Neymar da Silva Santos Júnior           175            68   \n",
       "\n",
       "   PotentialRating BestPositions  BestOverallRating  PlayerValue    Wage  \\\n",
       "0               93            RW                 93    103500000  560000   \n",
       "1               92            ST                 92     63000000  220000   \n",
       "2               93            GK                 91    120000000  125000   \n",
       "3               91           CAM                 91    129000000  370000   \n",
       "4               91            LW                 91    132000000  270000   \n",
       "\n",
       "  Nationality  Crossing  ...  SkillMoves  InternationalReputations  \\\n",
       "0   Argentina        85  ...           4                         5   \n",
       "1    Portugal        84  ...           5                         5   \n",
       "2    Slovenia        13  ...           1                         3   \n",
       "3     Belgium        94  ...           4                         4   \n",
       "4      Brazil        85  ...           5                         5   \n",
       "\n",
       "         WorkRate  BodyType  Dribbling  Curve  FreekickAccuracy  LongPassing  \\\n",
       "0     Medium/ Low    Unique         96     93                94           91   \n",
       "1       High/ Low    Unique         88     81                76           77   \n",
       "2  Medium/ Medium    Unique         12     13                14           40   \n",
       "3      High/ High    Unique         88     85                83           93   \n",
       "4    High/ Medium    Unique         95     88                89           81   \n",
       "\n",
       "   BallControl  Age  \n",
       "0           96   35  \n",
       "1           92   37  \n",
       "2           30   29  \n",
       "3           92   31  \n",
       "4           95   30  \n",
       "\n",
       "[5 rows x 50 columns]"
      ]
     },
     "execution_count": 156,
     "metadata": {},
     "output_type": "execute_result"
    }
   ],
   "source": [
    "df = pd.read_csv(\"FIFA21_players.csv\")\n",
    "df = df.drop(['Unnamed: 0'], axis=1)\n",
    "df.head()"
   ]
  },
  {
   "cell_type": "markdown",
   "metadata": {},
   "source": [
    "### Check the columns"
   ]
  },
  {
   "cell_type": "code",
   "execution_count": 157,
   "metadata": {},
   "outputs": [
    {
     "data": {
      "text/plain": [
       "Index(['PlayerName', 'PlayerHeight', 'PlayerWeight', 'PotentialRating',\n",
       "       'BestPositions', 'BestOverallRating', 'PlayerValue', 'Wage',\n",
       "       'Nationality', 'Crossing', 'FinishingAccuracy', 'HeadingAccuracy',\n",
       "       'ShortPassing', 'Volleys', 'DefensiveAwareness', 'StandingTackle',\n",
       "       'SlidingTackle', 'Diving', 'Handling', 'Kicking', 'GkPositioning',\n",
       "       'Reflexes', 'Aggression', 'Interceptions', 'Positioning', 'Vision',\n",
       "       'Penalties', 'Composure', 'Acceleration', 'SprintSpeed', 'Agility',\n",
       "       'Reactions', 'Balance', 'ShotPower', 'JumpingPower', 'Stamina',\n",
       "       'Strength', 'LongShots', 'PreferredFoot', 'WeakFoot', 'SkillMoves',\n",
       "       'InternationalReputations', 'WorkRate', 'BodyType', 'Dribbling',\n",
       "       'Curve', 'FreekickAccuracy', 'LongPassing', 'BallControl', 'Age'],\n",
       "      dtype='object')"
      ]
     },
     "execution_count": 157,
     "metadata": {},
     "output_type": "execute_result"
    }
   ],
   "source": [
    "df.columns"
   ]
  },
  {
   "cell_type": "markdown",
   "metadata": {},
   "source": [
    "### Shape of the dataset"
   ]
  },
  {
   "cell_type": "code",
   "execution_count": 158,
   "metadata": {},
   "outputs": [
    {
     "data": {
      "text/plain": [
       "(19002, 50)"
      ]
     },
     "execution_count": 158,
     "metadata": {},
     "output_type": "execute_result"
    }
   ],
   "source": [
    "df.shape"
   ]
  },
  {
   "cell_type": "markdown",
   "metadata": {},
   "source": [
    "### Check whether columns have missing values"
   ]
  },
  {
   "cell_type": "code",
   "execution_count": 159,
   "metadata": {},
   "outputs": [
    {
     "data": {
      "text/plain": [
       "Index([], dtype='object')"
      ]
     },
     "execution_count": 159,
     "metadata": {},
     "output_type": "execute_result"
    }
   ],
   "source": [
    "# df.isnull().sum()\n",
    "df.columns[df.isnull().any()]"
   ]
  },
  {
   "cell_type": "markdown",
   "metadata": {},
   "source": [
    "### Rename the columns properly"
   ]
  },
  {
   "cell_type": "code",
   "execution_count": 160,
   "metadata": {},
   "outputs": [],
   "source": [
    "# df = df.rename(columns = {'int_player_id': 'PlayerId', 'str_player_name': 'PlayerName', 'str_positions': 'Positions','dt_date_of_birth': 'D.O.B', 'int_height': 'PlayerHeight',\n",
    "# 'int_weight': 'PlayerWeight', 'int_overall_rating': 'OverallRating',\n",
    "# 'int_potential_rating': 'PotentialRating', 'str_best_position': 'BestPositions',\n",
    "# 'int_best_overall_rating': 'BestOverallRating', 'int_value': 'PlayerValue',\n",
    "# 'int_wage': 'Wage', 'int_team_id': 'TeamId', 'str_nationality': 'Nationality',\n",
    "# 'int_crossing': 'Crossing', 'int_finishing': 'FinishingAccuracy',\n",
    "# 'int_heading_accuracy': 'HeadingAccuracy', 'int_short_passing': 'ShortPassing',\n",
    "# 'int_volleys': 'Volleys', 'int_defensive_awareness': 'DefensiveAwareness',\n",
    "# 'int_standing_tackle': 'StandingTackle', 'int_sliding_tackle': 'SlidingTackle',\n",
    "# 'int_diving': 'Diving', 'int_handling': 'Handling',\n",
    "# 'int_kicking': 'Kicking', 'int_gk_positioning': 'GkPositioning',\n",
    "# 'int_reflexes': 'Reflexes', 'int_aggression': 'Aggression',\n",
    "# 'int_interceptions': 'Interceptions', 'int_positioning': 'Positioning',\n",
    "# 'int_vision': 'Vision', 'int_penalties': 'Penalties',\n",
    "# 'int_composure': 'Composure', 'int_acceleration': 'Acceleration',\n",
    "# 'int_sprint_speed': 'SprintSpeed', 'int_agility': 'Agility',\n",
    "# 'int_reactions': 'Reactions', 'int_balance': 'Balance',\n",
    "# 'int_shot_power': 'ShotPower', 'int_jumping': 'JumpingPower',\n",
    "# 'int_stamina': 'Stamina', 'int_strength': 'Strength',\n",
    "# 'int_long_shots': 'LongShots', 'str_preferred_foot': 'PreferredFoot',\n",
    "# 'int_weak_foot': 'WeakFoot', 'int_skill_moves': 'SkillMoves',\n",
    "# 'int_international_reputations': 'InternationalReputations', 'str_work_rate': 'WorkRate',\n",
    "# 'str_body_type': 'BodyType', 'int_dribbling': 'Dribbling',\n",
    "# 'int_curve': 'Curve', 'int_fk_accuracy': 'FreekickAccuracy',\n",
    "# 'int_long_passing': 'LongPassing', 'int_ball_control': 'BallControl', 'str_player_speciality':'PlayerSpeciality', 'str_trait': 'Trait'}, inplace = False)"
   ]
  },
  {
   "cell_type": "markdown",
   "metadata": {},
   "source": [
    "### Getting Information about the datatypes"
   ]
  },
  {
   "cell_type": "code",
   "execution_count": 161,
   "metadata": {},
   "outputs": [
    {
     "name": "stdout",
     "output_type": "stream",
     "text": [
      "<class 'pandas.core.frame.DataFrame'>\n",
      "RangeIndex: 19002 entries, 0 to 19001\n",
      "Data columns (total 50 columns):\n",
      " #   Column                    Non-Null Count  Dtype \n",
      "---  ------                    --------------  ----- \n",
      " 0   PlayerName                19002 non-null  object\n",
      " 1   PlayerHeight              19002 non-null  int64 \n",
      " 2   PlayerWeight              19002 non-null  int64 \n",
      " 3   PotentialRating           19002 non-null  int64 \n",
      " 4   BestPositions             19002 non-null  object\n",
      " 5   BestOverallRating         19002 non-null  int64 \n",
      " 6   PlayerValue               19002 non-null  int64 \n",
      " 7   Wage                      19002 non-null  int64 \n",
      " 8   Nationality               19002 non-null  object\n",
      " 9   Crossing                  19002 non-null  int64 \n",
      " 10  FinishingAccuracy         19002 non-null  int64 \n",
      " 11  HeadingAccuracy           19002 non-null  int64 \n",
      " 12  ShortPassing              19002 non-null  int64 \n",
      " 13  Volleys                   19002 non-null  int64 \n",
      " 14  DefensiveAwareness        19002 non-null  int64 \n",
      " 15  StandingTackle            19002 non-null  int64 \n",
      " 16  SlidingTackle             19002 non-null  int64 \n",
      " 17  Diving                    19002 non-null  int64 \n",
      " 18  Handling                  19002 non-null  int64 \n",
      " 19  Kicking                   19002 non-null  int64 \n",
      " 20  GkPositioning             19002 non-null  int64 \n",
      " 21  Reflexes                  19002 non-null  int64 \n",
      " 22  Aggression                19002 non-null  int64 \n",
      " 23  Interceptions             19002 non-null  int64 \n",
      " 24  Positioning               19002 non-null  int64 \n",
      " 25  Vision                    19002 non-null  int64 \n",
      " 26  Penalties                 19002 non-null  int64 \n",
      " 27  Composure                 19002 non-null  int64 \n",
      " 28  Acceleration              19002 non-null  int64 \n",
      " 29  SprintSpeed               19002 non-null  int64 \n",
      " 30  Agility                   19002 non-null  int64 \n",
      " 31  Reactions                 19002 non-null  int64 \n",
      " 32  Balance                   19002 non-null  int64 \n",
      " 33  ShotPower                 19002 non-null  int64 \n",
      " 34  JumpingPower              19002 non-null  int64 \n",
      " 35  Stamina                   19002 non-null  int64 \n",
      " 36  Strength                  19002 non-null  int64 \n",
      " 37  LongShots                 19002 non-null  int64 \n",
      " 38  PreferredFoot             19002 non-null  object\n",
      " 39  WeakFoot                  19002 non-null  int64 \n",
      " 40  SkillMoves                19002 non-null  int64 \n",
      " 41  InternationalReputations  19002 non-null  int64 \n",
      " 42  WorkRate                  19002 non-null  object\n",
      " 43  BodyType                  19002 non-null  object\n",
      " 44  Dribbling                 19002 non-null  int64 \n",
      " 45  Curve                     19002 non-null  int64 \n",
      " 46  FreekickAccuracy          19002 non-null  int64 \n",
      " 47  LongPassing               19002 non-null  int64 \n",
      " 48  BallControl               19002 non-null  int64 \n",
      " 49  Age                       19002 non-null  int64 \n",
      "dtypes: int64(44), object(6)\n",
      "memory usage: 7.2+ MB\n"
     ]
    }
   ],
   "source": [
    "df.info()"
   ]
  },
  {
   "cell_type": "markdown",
   "metadata": {},
   "source": [
    "### Statistical Analysis"
   ]
  },
  {
   "cell_type": "code",
   "execution_count": 162,
   "metadata": {},
   "outputs": [
    {
     "data": {
      "text/html": [
       "<div>\n",
       "<style scoped>\n",
       "    .dataframe tbody tr th:only-of-type {\n",
       "        vertical-align: middle;\n",
       "    }\n",
       "\n",
       "    .dataframe tbody tr th {\n",
       "        vertical-align: top;\n",
       "    }\n",
       "\n",
       "    .dataframe thead th {\n",
       "        text-align: right;\n",
       "    }\n",
       "</style>\n",
       "<table border=\"1\" class=\"dataframe\">\n",
       "  <thead>\n",
       "    <tr style=\"text-align: right;\">\n",
       "      <th></th>\n",
       "      <th>PlayerHeight</th>\n",
       "      <th>PlayerWeight</th>\n",
       "      <th>PotentialRating</th>\n",
       "      <th>BestOverallRating</th>\n",
       "      <th>PlayerValue</th>\n",
       "      <th>Wage</th>\n",
       "      <th>Crossing</th>\n",
       "      <th>FinishingAccuracy</th>\n",
       "      <th>HeadingAccuracy</th>\n",
       "      <th>ShortPassing</th>\n",
       "      <th>...</th>\n",
       "      <th>LongShots</th>\n",
       "      <th>WeakFoot</th>\n",
       "      <th>SkillMoves</th>\n",
       "      <th>InternationalReputations</th>\n",
       "      <th>Dribbling</th>\n",
       "      <th>Curve</th>\n",
       "      <th>FreekickAccuracy</th>\n",
       "      <th>LongPassing</th>\n",
       "      <th>BallControl</th>\n",
       "      <th>Age</th>\n",
       "    </tr>\n",
       "  </thead>\n",
       "  <tbody>\n",
       "    <tr>\n",
       "      <th>count</th>\n",
       "      <td>19002.000000</td>\n",
       "      <td>19002.000000</td>\n",
       "      <td>19002.000000</td>\n",
       "      <td>19002.000000</td>\n",
       "      <td>19002.000000</td>\n",
       "      <td>19002.000000</td>\n",
       "      <td>19002.000000</td>\n",
       "      <td>19002.000000</td>\n",
       "      <td>19002.000000</td>\n",
       "      <td>19002.000000</td>\n",
       "      <td>...</td>\n",
       "      <td>19002.000000</td>\n",
       "      <td>19002.000000</td>\n",
       "      <td>19002.000000</td>\n",
       "      <td>19002.000000</td>\n",
       "      <td>19002.000000</td>\n",
       "      <td>19002.000000</td>\n",
       "      <td>19002.000000</td>\n",
       "      <td>19002.000000</td>\n",
       "      <td>19002.000000</td>\n",
       "      <td>19002.000000</td>\n",
       "    </tr>\n",
       "    <tr>\n",
       "      <th>mean</th>\n",
       "      <td>181.225660</td>\n",
       "      <td>75.046311</td>\n",
       "      <td>71.148932</td>\n",
       "      <td>66.784286</td>\n",
       "      <td>2891449.005368</td>\n",
       "      <td>9113.167035</td>\n",
       "      <td>49.690454</td>\n",
       "      <td>45.877329</td>\n",
       "      <td>51.970056</td>\n",
       "      <td>58.808494</td>\n",
       "      <td>...</td>\n",
       "      <td>46.812967</td>\n",
       "      <td>2.942217</td>\n",
       "      <td>2.365540</td>\n",
       "      <td>1.090569</td>\n",
       "      <td>55.607462</td>\n",
       "      <td>47.271603</td>\n",
       "      <td>42.394432</td>\n",
       "      <td>52.779971</td>\n",
       "      <td>58.552416</td>\n",
       "      <td>27.592464</td>\n",
       "    </tr>\n",
       "    <tr>\n",
       "      <th>std</th>\n",
       "      <td>6.847472</td>\n",
       "      <td>7.078378</td>\n",
       "      <td>6.115352</td>\n",
       "      <td>6.733926</td>\n",
       "      <td>7733189.305884</td>\n",
       "      <td>19735.324238</td>\n",
       "      <td>18.141514</td>\n",
       "      <td>19.580879</td>\n",
       "      <td>17.323647</td>\n",
       "      <td>14.517060</td>\n",
       "      <td>...</td>\n",
       "      <td>19.307572</td>\n",
       "      <td>0.669568</td>\n",
       "      <td>0.766687</td>\n",
       "      <td>0.359019</td>\n",
       "      <td>18.786894</td>\n",
       "      <td>18.217325</td>\n",
       "      <td>17.240399</td>\n",
       "      <td>15.172601</td>\n",
       "      <td>16.580120</td>\n",
       "      <td>4.715048</td>\n",
       "    </tr>\n",
       "    <tr>\n",
       "      <th>min</th>\n",
       "      <td>155.000000</td>\n",
       "      <td>50.000000</td>\n",
       "      <td>48.000000</td>\n",
       "      <td>48.000000</td>\n",
       "      <td>0.000000</td>\n",
       "      <td>0.000000</td>\n",
       "      <td>6.000000</td>\n",
       "      <td>3.000000</td>\n",
       "      <td>5.000000</td>\n",
       "      <td>7.000000</td>\n",
       "      <td>...</td>\n",
       "      <td>4.000000</td>\n",
       "      <td>1.000000</td>\n",
       "      <td>1.000000</td>\n",
       "      <td>1.000000</td>\n",
       "      <td>5.000000</td>\n",
       "      <td>4.000000</td>\n",
       "      <td>5.000000</td>\n",
       "      <td>5.000000</td>\n",
       "      <td>5.000000</td>\n",
       "      <td>19.000000</td>\n",
       "    </tr>\n",
       "    <tr>\n",
       "      <th>25%</th>\n",
       "      <td>176.000000</td>\n",
       "      <td>70.000000</td>\n",
       "      <td>67.000000</td>\n",
       "      <td>62.000000</td>\n",
       "      <td>475000.000000</td>\n",
       "      <td>1000.000000</td>\n",
       "      <td>38.000000</td>\n",
       "      <td>30.000000</td>\n",
       "      <td>44.000000</td>\n",
       "      <td>54.000000</td>\n",
       "      <td>...</td>\n",
       "      <td>32.000000</td>\n",
       "      <td>3.000000</td>\n",
       "      <td>2.000000</td>\n",
       "      <td>1.000000</td>\n",
       "      <td>49.000000</td>\n",
       "      <td>35.000000</td>\n",
       "      <td>31.000000</td>\n",
       "      <td>43.000000</td>\n",
       "      <td>54.000000</td>\n",
       "      <td>24.000000</td>\n",
       "    </tr>\n",
       "    <tr>\n",
       "      <th>50%</th>\n",
       "      <td>181.000000</td>\n",
       "      <td>75.000000</td>\n",
       "      <td>71.000000</td>\n",
       "      <td>67.000000</td>\n",
       "      <td>950000.000000</td>\n",
       "      <td>3000.000000</td>\n",
       "      <td>54.000000</td>\n",
       "      <td>50.000000</td>\n",
       "      <td>55.000000</td>\n",
       "      <td>62.000000</td>\n",
       "      <td>...</td>\n",
       "      <td>51.000000</td>\n",
       "      <td>3.000000</td>\n",
       "      <td>2.000000</td>\n",
       "      <td>1.000000</td>\n",
       "      <td>61.000000</td>\n",
       "      <td>49.000000</td>\n",
       "      <td>41.000000</td>\n",
       "      <td>56.000000</td>\n",
       "      <td>63.000000</td>\n",
       "      <td>27.000000</td>\n",
       "    </tr>\n",
       "    <tr>\n",
       "      <th>75%</th>\n",
       "      <td>186.000000</td>\n",
       "      <td>80.000000</td>\n",
       "      <td>75.000000</td>\n",
       "      <td>71.000000</td>\n",
       "      <td>2000000.000000</td>\n",
       "      <td>8000.000000</td>\n",
       "      <td>63.000000</td>\n",
       "      <td>62.000000</td>\n",
       "      <td>64.000000</td>\n",
       "      <td>68.000000</td>\n",
       "      <td>...</td>\n",
       "      <td>62.000000</td>\n",
       "      <td>3.000000</td>\n",
       "      <td>3.000000</td>\n",
       "      <td>1.000000</td>\n",
       "      <td>68.000000</td>\n",
       "      <td>61.000000</td>\n",
       "      <td>55.000000</td>\n",
       "      <td>64.000000</td>\n",
       "      <td>69.000000</td>\n",
       "      <td>31.000000</td>\n",
       "    </tr>\n",
       "    <tr>\n",
       "      <th>max</th>\n",
       "      <td>206.000000</td>\n",
       "      <td>110.000000</td>\n",
       "      <td>95.000000</td>\n",
       "      <td>93.000000</td>\n",
       "      <td>185500000.000000</td>\n",
       "      <td>560000.000000</td>\n",
       "      <td>94.000000</td>\n",
       "      <td>95.000000</td>\n",
       "      <td>93.000000</td>\n",
       "      <td>94.000000</td>\n",
       "      <td>...</td>\n",
       "      <td>94.000000</td>\n",
       "      <td>5.000000</td>\n",
       "      <td>5.000000</td>\n",
       "      <td>5.000000</td>\n",
       "      <td>96.000000</td>\n",
       "      <td>94.000000</td>\n",
       "      <td>94.000000</td>\n",
       "      <td>93.000000</td>\n",
       "      <td>96.000000</td>\n",
       "      <td>55.000000</td>\n",
       "    </tr>\n",
       "  </tbody>\n",
       "</table>\n",
       "<p>8 rows × 44 columns</p>\n",
       "</div>"
      ],
      "text/plain": [
       "       PlayerHeight  PlayerWeight PotentialRating BestOverallRating  \\\n",
       "count  19002.000000  19002.000000    19002.000000      19002.000000   \n",
       "mean     181.225660     75.046311       71.148932         66.784286   \n",
       "std        6.847472      7.078378        6.115352          6.733926   \n",
       "min      155.000000     50.000000       48.000000         48.000000   \n",
       "25%      176.000000     70.000000       67.000000         62.000000   \n",
       "50%      181.000000     75.000000       71.000000         67.000000   \n",
       "75%      186.000000     80.000000       75.000000         71.000000   \n",
       "max      206.000000    110.000000       95.000000         93.000000   \n",
       "\n",
       "            PlayerValue           Wage      Crossing FinishingAccuracy  \\\n",
       "count      19002.000000   19002.000000  19002.000000      19002.000000   \n",
       "mean     2891449.005368    9113.167035     49.690454         45.877329   \n",
       "std      7733189.305884   19735.324238     18.141514         19.580879   \n",
       "min            0.000000       0.000000      6.000000          3.000000   \n",
       "25%       475000.000000    1000.000000     38.000000         30.000000   \n",
       "50%       950000.000000    3000.000000     54.000000         50.000000   \n",
       "75%      2000000.000000    8000.000000     63.000000         62.000000   \n",
       "max    185500000.000000  560000.000000     94.000000         95.000000   \n",
       "\n",
       "      HeadingAccuracy  ShortPassing  ...     LongShots      WeakFoot  \\\n",
       "count    19002.000000  19002.000000  ...  19002.000000  19002.000000   \n",
       "mean        51.970056     58.808494  ...     46.812967      2.942217   \n",
       "std         17.323647     14.517060  ...     19.307572      0.669568   \n",
       "min          5.000000      7.000000  ...      4.000000      1.000000   \n",
       "25%         44.000000     54.000000  ...     32.000000      3.000000   \n",
       "50%         55.000000     62.000000  ...     51.000000      3.000000   \n",
       "75%         64.000000     68.000000  ...     62.000000      3.000000   \n",
       "max         93.000000     94.000000  ...     94.000000      5.000000   \n",
       "\n",
       "         SkillMoves InternationalReputations     Dribbling         Curve  \\\n",
       "count  19002.000000             19002.000000  19002.000000  19002.000000   \n",
       "mean       2.365540                 1.090569     55.607462     47.271603   \n",
       "std        0.766687                 0.359019     18.786894     18.217325   \n",
       "min        1.000000                 1.000000      5.000000      4.000000   \n",
       "25%        2.000000                 1.000000     49.000000     35.000000   \n",
       "50%        2.000000                 1.000000     61.000000     49.000000   \n",
       "75%        3.000000                 1.000000     68.000000     61.000000   \n",
       "max        5.000000                 5.000000     96.000000     94.000000   \n",
       "\n",
       "      FreekickAccuracy   LongPassing   BallControl           Age  \n",
       "count     19002.000000  19002.000000  19002.000000  19002.000000  \n",
       "mean         42.394432     52.779971     58.552416     27.592464  \n",
       "std          17.240399     15.172601     16.580120      4.715048  \n",
       "min           5.000000      5.000000      5.000000     19.000000  \n",
       "25%          31.000000     43.000000     54.000000     24.000000  \n",
       "50%          41.000000     56.000000     63.000000     27.000000  \n",
       "75%          55.000000     64.000000     69.000000     31.000000  \n",
       "max          94.000000     93.000000     96.000000     55.000000  \n",
       "\n",
       "[8 rows x 44 columns]"
      ]
     },
     "execution_count": 162,
     "metadata": {},
     "output_type": "execute_result"
    }
   ],
   "source": [
    "df.describe().apply(lambda s: s.apply(lambda x: format(x, 'f')))"
   ]
  },
  {
   "cell_type": "markdown",
   "metadata": {},
   "source": [
    "# Answer the following questions based on the dataset given"
   ]
  },
  {
   "cell_type": "markdown",
   "metadata": {},
   "source": [
    "### Q1 Fastest Players for FIFA 2021"
   ]
  },
  {
   "cell_type": "markdown",
   "metadata": {},
   "source": [
    "##### In order to get the fastest players, we need to sort the players according to their acceleration or sprint speed in the desc order. (Here, I have taken Acceleration)"
   ]
  },
  {
   "cell_type": "code",
   "execution_count": 163,
   "metadata": {},
   "outputs": [
    {
     "data": {
      "text/html": [
       "<div>\n",
       "<style scoped>\n",
       "    .dataframe tbody tr th:only-of-type {\n",
       "        vertical-align: middle;\n",
       "    }\n",
       "\n",
       "    .dataframe tbody tr th {\n",
       "        vertical-align: top;\n",
       "    }\n",
       "\n",
       "    .dataframe thead th {\n",
       "        text-align: right;\n",
       "    }\n",
       "</style>\n",
       "<table border=\"1\" class=\"dataframe\">\n",
       "  <thead>\n",
       "    <tr style=\"text-align: right;\">\n",
       "      <th></th>\n",
       "      <th>Acceleration</th>\n",
       "      <th>BestPositions</th>\n",
       "      <th>Age</th>\n",
       "      <th>Nationality</th>\n",
       "      <th>SprintSpeed</th>\n",
       "    </tr>\n",
       "    <tr>\n",
       "      <th>PlayerName</th>\n",
       "      <th></th>\n",
       "      <th></th>\n",
       "      <th></th>\n",
       "      <th></th>\n",
       "      <th></th>\n",
       "    </tr>\n",
       "  </thead>\n",
       "  <tbody>\n",
       "    <tr>\n",
       "      <th>Adama Traoré Diarra</th>\n",
       "      <td>97</td>\n",
       "      <td>RM</td>\n",
       "      <td>26</td>\n",
       "      <td>Spain</td>\n",
       "      <td>96</td>\n",
       "    </tr>\n",
       "    <tr>\n",
       "      <th>Kylian Mbappé Lottin</th>\n",
       "      <td>96</td>\n",
       "      <td>ST</td>\n",
       "      <td>24</td>\n",
       "      <td>France</td>\n",
       "      <td>96</td>\n",
       "    </tr>\n",
       "    <tr>\n",
       "      <th>Raheem Shaquille Sterling</th>\n",
       "      <td>96</td>\n",
       "      <td>LW</td>\n",
       "      <td>28</td>\n",
       "      <td>England</td>\n",
       "      <td>90</td>\n",
       "    </tr>\n",
       "    <tr>\n",
       "      <th>Moussa Diaby</th>\n",
       "      <td>96</td>\n",
       "      <td>LM</td>\n",
       "      <td>23</td>\n",
       "      <td>France</td>\n",
       "      <td>90</td>\n",
       "    </tr>\n",
       "    <tr>\n",
       "      <th>Alphonso Davies</th>\n",
       "      <td>96</td>\n",
       "      <td>LB</td>\n",
       "      <td>22</td>\n",
       "      <td>Canada</td>\n",
       "      <td>96</td>\n",
       "    </tr>\n",
       "    <tr>\n",
       "      <th>Daniel James</th>\n",
       "      <td>96</td>\n",
       "      <td>RM</td>\n",
       "      <td>25</td>\n",
       "      <td>Wales</td>\n",
       "      <td>95</td>\n",
       "    </tr>\n",
       "    <tr>\n",
       "      <th>Jérémy Doku</th>\n",
       "      <td>96</td>\n",
       "      <td>RW</td>\n",
       "      <td>20</td>\n",
       "      <td>Belgium</td>\n",
       "      <td>91</td>\n",
       "    </tr>\n",
       "    <tr>\n",
       "      <th>Sadio Mané</th>\n",
       "      <td>95</td>\n",
       "      <td>LW</td>\n",
       "      <td>30</td>\n",
       "      <td>Senegal</td>\n",
       "      <td>93</td>\n",
       "    </tr>\n",
       "    <tr>\n",
       "      <th>Lucas Rodrigues Moura da Silva</th>\n",
       "      <td>95</td>\n",
       "      <td>RM</td>\n",
       "      <td>30</td>\n",
       "      <td>Brazil</td>\n",
       "      <td>88</td>\n",
       "    </tr>\n",
       "    <tr>\n",
       "      <th>Vinícius José Paixão de Oliveira Júnior</th>\n",
       "      <td>95</td>\n",
       "      <td>RM</td>\n",
       "      <td>22</td>\n",
       "      <td>Brazil</td>\n",
       "      <td>95</td>\n",
       "    </tr>\n",
       "  </tbody>\n",
       "</table>\n",
       "</div>"
      ],
      "text/plain": [
       "                                         Acceleration BestPositions  Age  \\\n",
       "PlayerName                                                                 \n",
       "Adama Traoré Diarra                                97            RM   26   \n",
       "Kylian Mbappé Lottin                               96            ST   24   \n",
       "Raheem Shaquille Sterling                          96            LW   28   \n",
       "Moussa Diaby                                       96            LM   23   \n",
       "Alphonso Davies                                    96            LB   22   \n",
       "Daniel James                                       96            RM   25   \n",
       "Jérémy Doku                                        96            RW   20   \n",
       "Sadio Mané                                         95            LW   30   \n",
       "Lucas Rodrigues Moura da Silva                     95            RM   30   \n",
       "Vinícius José Paixão de Oliveira Júnior            95            RM   22   \n",
       "\n",
       "                                        Nationality  SprintSpeed  \n",
       "PlayerName                                                        \n",
       "Adama Traoré Diarra                           Spain           96  \n",
       "Kylian Mbappé Lottin                         France           96  \n",
       "Raheem Shaquille Sterling                   England           90  \n",
       "Moussa Diaby                                 France           90  \n",
       "Alphonso Davies                              Canada           96  \n",
       "Daniel James                                  Wales           95  \n",
       "Jérémy Doku                                 Belgium           91  \n",
       "Sadio Mané                                  Senegal           93  \n",
       "Lucas Rodrigues Moura da Silva               Brazil           88  \n",
       "Vinícius José Paixão de Oliveira Júnior      Brazil           95  "
      ]
     },
     "execution_count": 163,
     "metadata": {},
     "output_type": "execute_result"
    }
   ],
   "source": [
    "fastest = df[[\"Acceleration\",\"PlayerName\",\"BestPositions\",'Age','Nationality','SprintSpeed']].nlargest(10, ['Acceleration']).set_index('PlayerName').head(10)\n",
    "fastest"
   ]
  },
  {
   "cell_type": "markdown",
   "metadata": {},
   "source": [
    "### Q2 Tallest Players in FIFA 2021"
   ]
  },
  {
   "cell_type": "markdown",
   "metadata": {},
   "source": [
    "##### In order to get the tallest players, we need to sort the players according to their height in desc order."
   ]
  },
  {
   "cell_type": "code",
   "execution_count": 164,
   "metadata": {},
   "outputs": [
    {
     "data": {
      "text/html": [
       "<div>\n",
       "<style scoped>\n",
       "    .dataframe tbody tr th:only-of-type {\n",
       "        vertical-align: middle;\n",
       "    }\n",
       "\n",
       "    .dataframe tbody tr th {\n",
       "        vertical-align: top;\n",
       "    }\n",
       "\n",
       "    .dataframe thead th {\n",
       "        text-align: right;\n",
       "    }\n",
       "</style>\n",
       "<table border=\"1\" class=\"dataframe\">\n",
       "  <thead>\n",
       "    <tr style=\"text-align: right;\">\n",
       "      <th></th>\n",
       "      <th>PlayerHeight</th>\n",
       "      <th>PlayerWeight</th>\n",
       "      <th>BestPositions</th>\n",
       "      <th>Age</th>\n",
       "      <th>Nationality</th>\n",
       "    </tr>\n",
       "    <tr>\n",
       "      <th>PlayerName</th>\n",
       "      <th></th>\n",
       "      <th></th>\n",
       "      <th></th>\n",
       "      <th></th>\n",
       "      <th></th>\n",
       "    </tr>\n",
       "  </thead>\n",
       "  <tbody>\n",
       "    <tr>\n",
       "      <th>Tomáš Holý</th>\n",
       "      <td>206</td>\n",
       "      <td>102</td>\n",
       "      <td>GK</td>\n",
       "      <td>31</td>\n",
       "      <td>Czech Republic</td>\n",
       "    </tr>\n",
       "    <tr>\n",
       "      <th>Costel Fane Pantilimon</th>\n",
       "      <td>203</td>\n",
       "      <td>96</td>\n",
       "      <td>GK</td>\n",
       "      <td>35</td>\n",
       "      <td>Romania</td>\n",
       "    </tr>\n",
       "    <tr>\n",
       "      <th>Abdoul Bocar Bâ</th>\n",
       "      <td>203</td>\n",
       "      <td>94</td>\n",
       "      <td>CB</td>\n",
       "      <td>28</td>\n",
       "      <td>Mauritania</td>\n",
       "    </tr>\n",
       "    <tr>\n",
       "      <th>Aaron James Chapman</th>\n",
       "      <td>203</td>\n",
       "      <td>92</td>\n",
       "      <td>GK</td>\n",
       "      <td>32</td>\n",
       "      <td>England</td>\n",
       "    </tr>\n",
       "    <tr>\n",
       "      <th>Vanja Milinković-Savić</th>\n",
       "      <td>202</td>\n",
       "      <td>92</td>\n",
       "      <td>GK</td>\n",
       "      <td>25</td>\n",
       "      <td>Serbia</td>\n",
       "    </tr>\n",
       "    <tr>\n",
       "      <th>Kjell Scherpen</th>\n",
       "      <td>202</td>\n",
       "      <td>85</td>\n",
       "      <td>GK</td>\n",
       "      <td>22</td>\n",
       "      <td>Netherlands</td>\n",
       "    </tr>\n",
       "    <tr>\n",
       "      <th>Stefan Maierhofer</th>\n",
       "      <td>202</td>\n",
       "      <td>98</td>\n",
       "      <td>ST</td>\n",
       "      <td>40</td>\n",
       "      <td>Austria</td>\n",
       "    </tr>\n",
       "    <tr>\n",
       "      <th>Demba Thiam Ngagne</th>\n",
       "      <td>202</td>\n",
       "      <td>87</td>\n",
       "      <td>GK</td>\n",
       "      <td>24</td>\n",
       "      <td>Senegal</td>\n",
       "    </tr>\n",
       "    <tr>\n",
       "      <th>Lovre Kalinić</th>\n",
       "      <td>201</td>\n",
       "      <td>99</td>\n",
       "      <td>GK</td>\n",
       "      <td>32</td>\n",
       "      <td>Croatia</td>\n",
       "    </tr>\n",
       "    <tr>\n",
       "      <th>Fraser Forster</th>\n",
       "      <td>201</td>\n",
       "      <td>93</td>\n",
       "      <td>GK</td>\n",
       "      <td>34</td>\n",
       "      <td>England</td>\n",
       "    </tr>\n",
       "  </tbody>\n",
       "</table>\n",
       "</div>"
      ],
      "text/plain": [
       "                        PlayerHeight  PlayerWeight BestPositions  Age  \\\n",
       "PlayerName                                                              \n",
       "Tomáš Holý                       206           102            GK   31   \n",
       "Costel Fane Pantilimon           203            96            GK   35   \n",
       "Abdoul Bocar Bâ                  203            94            CB   28   \n",
       "Aaron James Chapman              203            92            GK   32   \n",
       "Vanja Milinković-Savić           202            92            GK   25   \n",
       "Kjell Scherpen                   202            85            GK   22   \n",
       "Stefan Maierhofer                202            98            ST   40   \n",
       "Demba Thiam Ngagne               202            87            GK   24   \n",
       "Lovre Kalinić                    201            99            GK   32   \n",
       "Fraser Forster                   201            93            GK   34   \n",
       "\n",
       "                           Nationality  \n",
       "PlayerName                              \n",
       "Tomáš Holý              Czech Republic  \n",
       "Costel Fane Pantilimon         Romania  \n",
       "Abdoul Bocar Bâ             Mauritania  \n",
       "Aaron James Chapman            England  \n",
       "Vanja Milinković-Savić          Serbia  \n",
       "Kjell Scherpen             Netherlands  \n",
       "Stefan Maierhofer              Austria  \n",
       "Demba Thiam Ngagne             Senegal  \n",
       "Lovre Kalinić                  Croatia  \n",
       "Fraser Forster                 England  "
      ]
     },
     "execution_count": 164,
     "metadata": {},
     "output_type": "execute_result"
    }
   ],
   "source": [
    "tallest = df[['PlayerHeight','PlayerName','PlayerWeight','BestPositions','Age','Nationality']].nlargest(10, ['PlayerHeight']).set_index('PlayerName')\n",
    "tallest"
   ]
  },
  {
   "cell_type": "markdown",
   "metadata": {},
   "source": [
    "### Q3 Best Defender in FIFA 2021"
   ]
  },
  {
   "cell_type": "markdown",
   "metadata": {},
   "source": [
    "##### In order to get the best defenders, we need to sort the players according to their DefensiveAwareness in desc order."
   ]
  },
  {
   "cell_type": "code",
   "execution_count": 165,
   "metadata": {},
   "outputs": [
    {
     "data": {
      "text/html": [
       "<div>\n",
       "<style scoped>\n",
       "    .dataframe tbody tr th:only-of-type {\n",
       "        vertical-align: middle;\n",
       "    }\n",
       "\n",
       "    .dataframe tbody tr th {\n",
       "        vertical-align: top;\n",
       "    }\n",
       "\n",
       "    .dataframe thead th {\n",
       "        text-align: right;\n",
       "    }\n",
       "</style>\n",
       "<table border=\"1\" class=\"dataframe\">\n",
       "  <thead>\n",
       "    <tr style=\"text-align: right;\">\n",
       "      <th></th>\n",
       "      <th>DefensiveAwareness</th>\n",
       "      <th>BestPositions</th>\n",
       "      <th>Age</th>\n",
       "      <th>Nationality</th>\n",
       "    </tr>\n",
       "    <tr>\n",
       "      <th>PlayerName</th>\n",
       "      <th></th>\n",
       "      <th></th>\n",
       "      <th></th>\n",
       "      <th></th>\n",
       "    </tr>\n",
       "  </thead>\n",
       "  <tbody>\n",
       "    <tr>\n",
       "      <th>Giorgio Chiellini</th>\n",
       "      <td>94</td>\n",
       "      <td>CB</td>\n",
       "      <td>38</td>\n",
       "      <td>Italy</td>\n",
       "    </tr>\n",
       "    <tr>\n",
       "      <th>Virgil van Dijk</th>\n",
       "      <td>93</td>\n",
       "      <td>CB</td>\n",
       "      <td>31</td>\n",
       "      <td>Netherlands</td>\n",
       "    </tr>\n",
       "    <tr>\n",
       "      <th>Milan Škriniar</th>\n",
       "      <td>92</td>\n",
       "      <td>CB</td>\n",
       "      <td>27</td>\n",
       "      <td>Slovakia</td>\n",
       "    </tr>\n",
       "    <tr>\n",
       "      <th>Kalidou Koulibaly</th>\n",
       "      <td>91</td>\n",
       "      <td>CB</td>\n",
       "      <td>31</td>\n",
       "      <td>Senegal</td>\n",
       "    </tr>\n",
       "    <tr>\n",
       "      <th>Mats Hummels</th>\n",
       "      <td>90</td>\n",
       "      <td>CB</td>\n",
       "      <td>34</td>\n",
       "      <td>Germany</td>\n",
       "    </tr>\n",
       "    <tr>\n",
       "      <th>Clément Nicolas Laurent Lenglet</th>\n",
       "      <td>90</td>\n",
       "      <td>CB</td>\n",
       "      <td>27</td>\n",
       "      <td>France</td>\n",
       "    </tr>\n",
       "    <tr>\n",
       "      <th>Leonardo Bonucci</th>\n",
       "      <td>90</td>\n",
       "      <td>CB</td>\n",
       "      <td>35</td>\n",
       "      <td>Italy</td>\n",
       "    </tr>\n",
       "    <tr>\n",
       "      <th>Diego Roberto Godín Leal</th>\n",
       "      <td>90</td>\n",
       "      <td>CB</td>\n",
       "      <td>36</td>\n",
       "      <td>Uruguay</td>\n",
       "    </tr>\n",
       "    <tr>\n",
       "      <th>N'Golo Kanté</th>\n",
       "      <td>89</td>\n",
       "      <td>CDM</td>\n",
       "      <td>31</td>\n",
       "      <td>France</td>\n",
       "    </tr>\n",
       "    <tr>\n",
       "      <th>Aymeric Laporte</th>\n",
       "      <td>89</td>\n",
       "      <td>CB</td>\n",
       "      <td>28</td>\n",
       "      <td>France</td>\n",
       "    </tr>\n",
       "  </tbody>\n",
       "</table>\n",
       "</div>"
      ],
      "text/plain": [
       "                                 DefensiveAwareness BestPositions  Age  \\\n",
       "PlayerName                                                               \n",
       "Giorgio Chiellini                                94            CB   38   \n",
       "Virgil van Dijk                                  93            CB   31   \n",
       "Milan Škriniar                                   92            CB   27   \n",
       "Kalidou Koulibaly                                91            CB   31   \n",
       "Mats Hummels                                     90            CB   34   \n",
       "Clément Nicolas Laurent Lenglet                  90            CB   27   \n",
       "Leonardo Bonucci                                 90            CB   35   \n",
       "Diego Roberto Godín Leal                         90            CB   36   \n",
       "N'Golo Kanté                                     89           CDM   31   \n",
       "Aymeric Laporte                                  89            CB   28   \n",
       "\n",
       "                                 Nationality  \n",
       "PlayerName                                    \n",
       "Giorgio Chiellini                      Italy  \n",
       "Virgil van Dijk                  Netherlands  \n",
       "Milan Škriniar                      Slovakia  \n",
       "Kalidou Koulibaly                    Senegal  \n",
       "Mats Hummels                         Germany  \n",
       "Clément Nicolas Laurent Lenglet       France  \n",
       "Leonardo Bonucci                       Italy  \n",
       "Diego Roberto Godín Leal             Uruguay  \n",
       "N'Golo Kanté                          France  \n",
       "Aymeric Laporte                       France  "
      ]
     },
     "execution_count": 165,
     "metadata": {},
     "output_type": "execute_result"
    }
   ],
   "source": [
    "defence = df[[\"DefensiveAwareness\",\"PlayerName\",\"BestPositions\",'Age','Nationality']].nlargest(10, ['DefensiveAwareness']).set_index('PlayerName')\n",
    "defence"
   ]
  },
  {
   "cell_type": "markdown",
   "metadata": {},
   "source": [
    "### Q4 Best Players with Long Passes in FIFA 2021"
   ]
  },
  {
   "cell_type": "markdown",
   "metadata": {},
   "source": [
    "##### In order to get the players with best Long Passes, we need to sort the players according to their LongPassing ability in desc order."
   ]
  },
  {
   "cell_type": "code",
   "execution_count": 166,
   "metadata": {},
   "outputs": [
    {
     "data": {
      "text/html": [
       "<div>\n",
       "<style scoped>\n",
       "    .dataframe tbody tr th:only-of-type {\n",
       "        vertical-align: middle;\n",
       "    }\n",
       "\n",
       "    .dataframe tbody tr th {\n",
       "        vertical-align: top;\n",
       "    }\n",
       "\n",
       "    .dataframe thead th {\n",
       "        text-align: right;\n",
       "    }\n",
       "</style>\n",
       "<table border=\"1\" class=\"dataframe\">\n",
       "  <thead>\n",
       "    <tr style=\"text-align: right;\">\n",
       "      <th></th>\n",
       "      <th>LongPassing</th>\n",
       "      <th>ShortPassing</th>\n",
       "      <th>BestPositions</th>\n",
       "      <th>Age</th>\n",
       "      <th>Nationality</th>\n",
       "    </tr>\n",
       "    <tr>\n",
       "      <th>PlayerName</th>\n",
       "      <th></th>\n",
       "      <th></th>\n",
       "      <th></th>\n",
       "      <th></th>\n",
       "      <th></th>\n",
       "    </tr>\n",
       "  </thead>\n",
       "  <tbody>\n",
       "    <tr>\n",
       "      <th>Kevin De Bruyne</th>\n",
       "      <td>93</td>\n",
       "      <td>94</td>\n",
       "      <td>CAM</td>\n",
       "      <td>31</td>\n",
       "      <td>Belgium</td>\n",
       "    </tr>\n",
       "    <tr>\n",
       "      <th>Toni Kroos</th>\n",
       "      <td>93</td>\n",
       "      <td>93</td>\n",
       "      <td>CM</td>\n",
       "      <td>32</td>\n",
       "      <td>Germany</td>\n",
       "    </tr>\n",
       "    <tr>\n",
       "      <th>Lionel Andrés Messi Cuccittini</th>\n",
       "      <td>91</td>\n",
       "      <td>91</td>\n",
       "      <td>RW</td>\n",
       "      <td>35</td>\n",
       "      <td>Argentina</td>\n",
       "    </tr>\n",
       "    <tr>\n",
       "      <th>Paul Pogba</th>\n",
       "      <td>91</td>\n",
       "      <td>86</td>\n",
       "      <td>CM</td>\n",
       "      <td>29</td>\n",
       "      <td>France</td>\n",
       "    </tr>\n",
       "    <tr>\n",
       "      <th>Daniel Parejo Muñoz</th>\n",
       "      <td>90</td>\n",
       "      <td>92</td>\n",
       "      <td>CM</td>\n",
       "      <td>33</td>\n",
       "      <td>Spain</td>\n",
       "    </tr>\n",
       "    <tr>\n",
       "      <th>Trent Alexander-Arnold</th>\n",
       "      <td>89</td>\n",
       "      <td>85</td>\n",
       "      <td>RB</td>\n",
       "      <td>24</td>\n",
       "      <td>England</td>\n",
       "    </tr>\n",
       "    <tr>\n",
       "      <th>Luka Modrić</th>\n",
       "      <td>89</td>\n",
       "      <td>91</td>\n",
       "      <td>CM</td>\n",
       "      <td>37</td>\n",
       "      <td>Croatia</td>\n",
       "    </tr>\n",
       "    <tr>\n",
       "      <th>Marco Verratti</th>\n",
       "      <td>89</td>\n",
       "      <td>90</td>\n",
       "      <td>CM</td>\n",
       "      <td>30</td>\n",
       "      <td>Italy</td>\n",
       "    </tr>\n",
       "    <tr>\n",
       "      <th>Hakim Ziyech</th>\n",
       "      <td>89</td>\n",
       "      <td>86</td>\n",
       "      <td>CAM</td>\n",
       "      <td>29</td>\n",
       "      <td>Morocco</td>\n",
       "    </tr>\n",
       "    <tr>\n",
       "      <th>Luis Alberto Romero Alconchel</th>\n",
       "      <td>89</td>\n",
       "      <td>90</td>\n",
       "      <td>CAM</td>\n",
       "      <td>30</td>\n",
       "      <td>Spain</td>\n",
       "    </tr>\n",
       "  </tbody>\n",
       "</table>\n",
       "</div>"
      ],
      "text/plain": [
       "                                LongPassing  ShortPassing BestPositions  Age  \\\n",
       "PlayerName                                                                     \n",
       "Kevin De Bruyne                          93            94           CAM   31   \n",
       "Toni Kroos                               93            93            CM   32   \n",
       "Lionel Andrés Messi Cuccittini           91            91            RW   35   \n",
       "Paul Pogba                               91            86            CM   29   \n",
       "Daniel Parejo Muñoz                      90            92            CM   33   \n",
       "Trent Alexander-Arnold                   89            85            RB   24   \n",
       "Luka Modrić                              89            91            CM   37   \n",
       "Marco Verratti                           89            90            CM   30   \n",
       "Hakim Ziyech                             89            86           CAM   29   \n",
       "Luis Alberto Romero Alconchel            89            90           CAM   30   \n",
       "\n",
       "                               Nationality  \n",
       "PlayerName                                  \n",
       "Kevin De Bruyne                    Belgium  \n",
       "Toni Kroos                         Germany  \n",
       "Lionel Andrés Messi Cuccittini   Argentina  \n",
       "Paul Pogba                          France  \n",
       "Daniel Parejo Muñoz                  Spain  \n",
       "Trent Alexander-Arnold             England  \n",
       "Luka Modrić                        Croatia  \n",
       "Marco Verratti                       Italy  \n",
       "Hakim Ziyech                       Morocco  \n",
       "Luis Alberto Romero Alconchel        Spain  "
      ]
     },
     "execution_count": 166,
     "metadata": {},
     "output_type": "execute_result"
    }
   ],
   "source": [
    "long_pass = df[[\"LongPassing\",'ShortPassing',\"PlayerName\",\"BestPositions\",'Age','Nationality']].nlargest(10, ['LongPassing']).set_index('PlayerName')\n",
    "long_pass"
   ]
  },
  {
   "cell_type": "markdown",
   "metadata": {},
   "source": [
    "### Q5 Best Players with ShortPasses in FIFA 2021"
   ]
  },
  {
   "cell_type": "markdown",
   "metadata": {},
   "source": [
    "##### In order to get the players with best Short Passes, we need to sort the players according to their ShortPassing ability in desc order."
   ]
  },
  {
   "cell_type": "code",
   "execution_count": 167,
   "metadata": {},
   "outputs": [
    {
     "data": {
      "text/html": [
       "<div>\n",
       "<style scoped>\n",
       "    .dataframe tbody tr th:only-of-type {\n",
       "        vertical-align: middle;\n",
       "    }\n",
       "\n",
       "    .dataframe tbody tr th {\n",
       "        vertical-align: top;\n",
       "    }\n",
       "\n",
       "    .dataframe thead th {\n",
       "        text-align: right;\n",
       "    }\n",
       "</style>\n",
       "<table border=\"1\" class=\"dataframe\">\n",
       "  <thead>\n",
       "    <tr style=\"text-align: right;\">\n",
       "      <th></th>\n",
       "      <th>LongPassing</th>\n",
       "      <th>ShortPassing</th>\n",
       "      <th>BestPositions</th>\n",
       "      <th>Age</th>\n",
       "      <th>Nationality</th>\n",
       "    </tr>\n",
       "    <tr>\n",
       "      <th>PlayerName</th>\n",
       "      <th></th>\n",
       "      <th></th>\n",
       "      <th></th>\n",
       "      <th></th>\n",
       "      <th></th>\n",
       "    </tr>\n",
       "  </thead>\n",
       "  <tbody>\n",
       "    <tr>\n",
       "      <th>Kevin De Bruyne</th>\n",
       "      <td>93</td>\n",
       "      <td>94</td>\n",
       "      <td>CAM</td>\n",
       "      <td>31</td>\n",
       "      <td>Belgium</td>\n",
       "    </tr>\n",
       "    <tr>\n",
       "      <th>Toni Kroos</th>\n",
       "      <td>93</td>\n",
       "      <td>93</td>\n",
       "      <td>CM</td>\n",
       "      <td>32</td>\n",
       "      <td>Germany</td>\n",
       "    </tr>\n",
       "    <tr>\n",
       "      <th>David Josué Jiménez Silva</th>\n",
       "      <td>84</td>\n",
       "      <td>92</td>\n",
       "      <td>CAM</td>\n",
       "      <td>36</td>\n",
       "      <td>Spain</td>\n",
       "    </tr>\n",
       "    <tr>\n",
       "      <th>Daniel Parejo Muñoz</th>\n",
       "      <td>90</td>\n",
       "      <td>92</td>\n",
       "      <td>CM</td>\n",
       "      <td>33</td>\n",
       "      <td>Spain</td>\n",
       "    </tr>\n",
       "    <tr>\n",
       "      <th>Lionel Andrés Messi Cuccittini</th>\n",
       "      <td>91</td>\n",
       "      <td>91</td>\n",
       "      <td>RW</td>\n",
       "      <td>35</td>\n",
       "      <td>Argentina</td>\n",
       "    </tr>\n",
       "    <tr>\n",
       "      <th>Luka Modrić</th>\n",
       "      <td>89</td>\n",
       "      <td>91</td>\n",
       "      <td>CM</td>\n",
       "      <td>37</td>\n",
       "      <td>Croatia</td>\n",
       "    </tr>\n",
       "    <tr>\n",
       "      <th>Marco Verratti</th>\n",
       "      <td>89</td>\n",
       "      <td>90</td>\n",
       "      <td>CM</td>\n",
       "      <td>30</td>\n",
       "      <td>Italy</td>\n",
       "    </tr>\n",
       "    <tr>\n",
       "      <th>Frenkie de Jong</th>\n",
       "      <td>86</td>\n",
       "      <td>90</td>\n",
       "      <td>CM</td>\n",
       "      <td>25</td>\n",
       "      <td>Netherlands</td>\n",
       "    </tr>\n",
       "    <tr>\n",
       "      <th>Luis Alberto Romero Alconchel</th>\n",
       "      <td>89</td>\n",
       "      <td>90</td>\n",
       "      <td>CAM</td>\n",
       "      <td>30</td>\n",
       "      <td>Spain</td>\n",
       "    </tr>\n",
       "    <tr>\n",
       "      <th>Christian Dannemann Eriksen</th>\n",
       "      <td>87</td>\n",
       "      <td>90</td>\n",
       "      <td>CAM</td>\n",
       "      <td>30</td>\n",
       "      <td>Denmark</td>\n",
       "    </tr>\n",
       "  </tbody>\n",
       "</table>\n",
       "</div>"
      ],
      "text/plain": [
       "                                LongPassing  ShortPassing BestPositions  Age  \\\n",
       "PlayerName                                                                     \n",
       "Kevin De Bruyne                          93            94           CAM   31   \n",
       "Toni Kroos                               93            93            CM   32   \n",
       "David Josué Jiménez Silva                84            92           CAM   36   \n",
       "Daniel Parejo Muñoz                      90            92            CM   33   \n",
       "Lionel Andrés Messi Cuccittini           91            91            RW   35   \n",
       "Luka Modrić                              89            91            CM   37   \n",
       "Marco Verratti                           89            90            CM   30   \n",
       "Frenkie de Jong                          86            90            CM   25   \n",
       "Luis Alberto Romero Alconchel            89            90           CAM   30   \n",
       "Christian Dannemann Eriksen              87            90           CAM   30   \n",
       "\n",
       "                                Nationality  \n",
       "PlayerName                                   \n",
       "Kevin De Bruyne                     Belgium  \n",
       "Toni Kroos                          Germany  \n",
       "David Josué Jiménez Silva             Spain  \n",
       "Daniel Parejo Muñoz                   Spain  \n",
       "Lionel Andrés Messi Cuccittini    Argentina  \n",
       "Luka Modrić                         Croatia  \n",
       "Marco Verratti                        Italy  \n",
       "Frenkie de Jong                 Netherlands  \n",
       "Luis Alberto Romero Alconchel         Spain  \n",
       "Christian Dannemann Eriksen         Denmark  "
      ]
     },
     "execution_count": 167,
     "metadata": {},
     "output_type": "execute_result"
    }
   ],
   "source": [
    "long_pass = df[[\"LongPassing\",'ShortPassing',\"PlayerName\",\"BestPositions\",'Age','Nationality']].nlargest(10, ['ShortPassing']).set_index('PlayerName')\n",
    "long_pass"
   ]
  },
  {
   "cell_type": "markdown",
   "metadata": {},
   "source": [
    "### Q6 Most Paid Players"
   ]
  },
  {
   "cell_type": "markdown",
   "metadata": {},
   "source": [
    "##### In order to get the most paid players, we need to sort the players according to their wages in desc order."
   ]
  },
  {
   "cell_type": "code",
   "execution_count": 168,
   "metadata": {},
   "outputs": [
    {
     "data": {
      "text/html": [
       "<div>\n",
       "<style scoped>\n",
       "    .dataframe tbody tr th:only-of-type {\n",
       "        vertical-align: middle;\n",
       "    }\n",
       "\n",
       "    .dataframe tbody tr th {\n",
       "        vertical-align: top;\n",
       "    }\n",
       "\n",
       "    .dataframe thead th {\n",
       "        text-align: right;\n",
       "    }\n",
       "</style>\n",
       "<table border=\"1\" class=\"dataframe\">\n",
       "  <thead>\n",
       "    <tr style=\"text-align: right;\">\n",
       "      <th></th>\n",
       "      <th>Wage</th>\n",
       "      <th>PlayerValue</th>\n",
       "      <th>BestOverallRating</th>\n",
       "      <th>Age</th>\n",
       "      <th>Nationality</th>\n",
       "      <th>PotentialRating</th>\n",
       "      <th>InternationalReputations</th>\n",
       "    </tr>\n",
       "    <tr>\n",
       "      <th>PlayerName</th>\n",
       "      <th></th>\n",
       "      <th></th>\n",
       "      <th></th>\n",
       "      <th></th>\n",
       "      <th></th>\n",
       "      <th></th>\n",
       "      <th></th>\n",
       "    </tr>\n",
       "  </thead>\n",
       "  <tbody>\n",
       "    <tr>\n",
       "      <th>Lionel Andrés Messi Cuccittini</th>\n",
       "      <td>560000</td>\n",
       "      <td>103500000</td>\n",
       "      <td>93</td>\n",
       "      <td>35</td>\n",
       "      <td>Argentina</td>\n",
       "      <td>93</td>\n",
       "      <td>5</td>\n",
       "    </tr>\n",
       "    <tr>\n",
       "      <th>Kevin De Bruyne</th>\n",
       "      <td>370000</td>\n",
       "      <td>129000000</td>\n",
       "      <td>91</td>\n",
       "      <td>31</td>\n",
       "      <td>Belgium</td>\n",
       "      <td>91</td>\n",
       "      <td>4</td>\n",
       "    </tr>\n",
       "    <tr>\n",
       "      <th>Karim Benzema</th>\n",
       "      <td>350000</td>\n",
       "      <td>83500000</td>\n",
       "      <td>89</td>\n",
       "      <td>35</td>\n",
       "      <td>France</td>\n",
       "      <td>89</td>\n",
       "      <td>4</td>\n",
       "    </tr>\n",
       "    <tr>\n",
       "      <th>Eden Hazard</th>\n",
       "      <td>350000</td>\n",
       "      <td>89500000</td>\n",
       "      <td>88</td>\n",
       "      <td>31</td>\n",
       "      <td>Belgium</td>\n",
       "      <td>88</td>\n",
       "      <td>4</td>\n",
       "    </tr>\n",
       "    <tr>\n",
       "      <th>Carlos Henrique Venancio Casimiro</th>\n",
       "      <td>310000</td>\n",
       "      <td>90500000</td>\n",
       "      <td>89</td>\n",
       "      <td>30</td>\n",
       "      <td>Brazil</td>\n",
       "      <td>89</td>\n",
       "      <td>3</td>\n",
       "    </tr>\n",
       "    <tr>\n",
       "      <th>Toni Kroos</th>\n",
       "      <td>310000</td>\n",
       "      <td>87500000</td>\n",
       "      <td>88</td>\n",
       "      <td>32</td>\n",
       "      <td>Germany</td>\n",
       "      <td>88</td>\n",
       "      <td>4</td>\n",
       "    </tr>\n",
       "    <tr>\n",
       "      <th>Sergio Ramos García</th>\n",
       "      <td>300000</td>\n",
       "      <td>33500000</td>\n",
       "      <td>89</td>\n",
       "      <td>36</td>\n",
       "      <td>Spain</td>\n",
       "      <td>89</td>\n",
       "      <td>4</td>\n",
       "    </tr>\n",
       "    <tr>\n",
       "      <th>Sergio Leonel Agüero del Castillo</th>\n",
       "      <td>300000</td>\n",
       "      <td>83500000</td>\n",
       "      <td>89</td>\n",
       "      <td>34</td>\n",
       "      <td>Argentina</td>\n",
       "      <td>89</td>\n",
       "      <td>4</td>\n",
       "    </tr>\n",
       "    <tr>\n",
       "      <th>Antoine Griezmann</th>\n",
       "      <td>290000</td>\n",
       "      <td>79500000</td>\n",
       "      <td>87</td>\n",
       "      <td>31</td>\n",
       "      <td>France</td>\n",
       "      <td>87</td>\n",
       "      <td>4</td>\n",
       "    </tr>\n",
       "    <tr>\n",
       "      <th>Neymar da Silva Santos Júnior</th>\n",
       "      <td>270000</td>\n",
       "      <td>132000000</td>\n",
       "      <td>91</td>\n",
       "      <td>30</td>\n",
       "      <td>Brazil</td>\n",
       "      <td>91</td>\n",
       "      <td>5</td>\n",
       "    </tr>\n",
       "  </tbody>\n",
       "</table>\n",
       "</div>"
      ],
      "text/plain": [
       "                                     Wage  PlayerValue  BestOverallRating  \\\n",
       "PlayerName                                                                  \n",
       "Lionel Andrés Messi Cuccittini     560000    103500000                 93   \n",
       "Kevin De Bruyne                    370000    129000000                 91   \n",
       "Karim Benzema                      350000     83500000                 89   \n",
       "Eden Hazard                        350000     89500000                 88   \n",
       "Carlos Henrique Venancio Casimiro  310000     90500000                 89   \n",
       "Toni Kroos                         310000     87500000                 88   \n",
       "Sergio Ramos García                300000     33500000                 89   \n",
       "Sergio Leonel Agüero del Castillo  300000     83500000                 89   \n",
       "Antoine Griezmann                  290000     79500000                 87   \n",
       "Neymar da Silva Santos Júnior      270000    132000000                 91   \n",
       "\n",
       "                                   Age Nationality  PotentialRating  \\\n",
       "PlayerName                                                            \n",
       "Lionel Andrés Messi Cuccittini      35   Argentina               93   \n",
       "Kevin De Bruyne                     31     Belgium               91   \n",
       "Karim Benzema                       35      France               89   \n",
       "Eden Hazard                         31     Belgium               88   \n",
       "Carlos Henrique Venancio Casimiro   30      Brazil               89   \n",
       "Toni Kroos                          32     Germany               88   \n",
       "Sergio Ramos García                 36       Spain               89   \n",
       "Sergio Leonel Agüero del Castillo   34   Argentina               89   \n",
       "Antoine Griezmann                   31      France               87   \n",
       "Neymar da Silva Santos Júnior       30      Brazil               91   \n",
       "\n",
       "                                   InternationalReputations  \n",
       "PlayerName                                                   \n",
       "Lionel Andrés Messi Cuccittini                            5  \n",
       "Kevin De Bruyne                                           4  \n",
       "Karim Benzema                                             4  \n",
       "Eden Hazard                                               4  \n",
       "Carlos Henrique Venancio Casimiro                         3  \n",
       "Toni Kroos                                                4  \n",
       "Sergio Ramos García                                       4  \n",
       "Sergio Leonel Agüero del Castillo                         4  \n",
       "Antoine Griezmann                                         4  \n",
       "Neymar da Silva Santos Júnior                             5  "
      ]
     },
     "execution_count": 168,
     "metadata": {},
     "output_type": "execute_result"
    }
   ],
   "source": [
    "paid_players = df[[\"Wage\",\"PlayerName\",\"PlayerValue\",\"BestOverallRating\",'Age','Nationality','PotentialRating','InternationalReputations']].nlargest(10, ['Wage']).set_index('PlayerName')\n",
    "paid_players"
   ]
  },
  {
   "cell_type": "markdown",
   "metadata": {},
   "source": [
    "### Q7 Best GoalKeeper by Reflex"
   ]
  },
  {
   "cell_type": "markdown",
   "metadata": {},
   "source": [
    "##### In order to get the goalkeepers with best Reflexes, we need to sort the players according to their Reflexes ability in desc order."
   ]
  },
  {
   "cell_type": "code",
   "execution_count": 169,
   "metadata": {},
   "outputs": [
    {
     "data": {
      "text/html": [
       "<div>\n",
       "<style scoped>\n",
       "    .dataframe tbody tr th:only-of-type {\n",
       "        vertical-align: middle;\n",
       "    }\n",
       "\n",
       "    .dataframe tbody tr th {\n",
       "        vertical-align: top;\n",
       "    }\n",
       "\n",
       "    .dataframe thead th {\n",
       "        text-align: right;\n",
       "    }\n",
       "</style>\n",
       "<table border=\"1\" class=\"dataframe\">\n",
       "  <thead>\n",
       "    <tr style=\"text-align: right;\">\n",
       "      <th></th>\n",
       "      <th>Reflexes</th>\n",
       "      <th>Kicking</th>\n",
       "      <th>Handling</th>\n",
       "      <th>Age</th>\n",
       "      <th>Nationality</th>\n",
       "    </tr>\n",
       "    <tr>\n",
       "      <th>PlayerName</th>\n",
       "      <th></th>\n",
       "      <th></th>\n",
       "      <th></th>\n",
       "      <th></th>\n",
       "      <th></th>\n",
       "    </tr>\n",
       "  </thead>\n",
       "  <tbody>\n",
       "    <tr>\n",
       "      <th>Jan Oblak</th>\n",
       "      <td>90</td>\n",
       "      <td>78</td>\n",
       "      <td>92</td>\n",
       "      <td>29</td>\n",
       "      <td>Slovenia</td>\n",
       "    </tr>\n",
       "    <tr>\n",
       "      <th>Marc-André ter Stegen</th>\n",
       "      <td>90</td>\n",
       "      <td>88</td>\n",
       "      <td>85</td>\n",
       "      <td>30</td>\n",
       "      <td>Germany</td>\n",
       "    </tr>\n",
       "    <tr>\n",
       "      <th>Keylor Navas Gamboa</th>\n",
       "      <td>90</td>\n",
       "      <td>75</td>\n",
       "      <td>81</td>\n",
       "      <td>36</td>\n",
       "      <td>Costa Rica</td>\n",
       "    </tr>\n",
       "    <tr>\n",
       "      <th>Hugo Lloris</th>\n",
       "      <td>90</td>\n",
       "      <td>68</td>\n",
       "      <td>82</td>\n",
       "      <td>36</td>\n",
       "      <td>France</td>\n",
       "    </tr>\n",
       "    <tr>\n",
       "      <th>Alisson Ramsés Becker</th>\n",
       "      <td>89</td>\n",
       "      <td>85</td>\n",
       "      <td>88</td>\n",
       "      <td>30</td>\n",
       "      <td>Brazil</td>\n",
       "    </tr>\n",
       "    <tr>\n",
       "      <th>Manuel Neuer</th>\n",
       "      <td>89</td>\n",
       "      <td>91</td>\n",
       "      <td>87</td>\n",
       "      <td>36</td>\n",
       "      <td>Germany</td>\n",
       "    </tr>\n",
       "    <tr>\n",
       "      <th>Samir Handanovič</th>\n",
       "      <td>89</td>\n",
       "      <td>73</td>\n",
       "      <td>85</td>\n",
       "      <td>38</td>\n",
       "      <td>Slovenia</td>\n",
       "    </tr>\n",
       "    <tr>\n",
       "      <th>David De Gea Quintana</th>\n",
       "      <td>89</td>\n",
       "      <td>78</td>\n",
       "      <td>81</td>\n",
       "      <td>32</td>\n",
       "      <td>Spain</td>\n",
       "    </tr>\n",
       "    <tr>\n",
       "      <th>Gianluigi Donnarumma</th>\n",
       "      <td>89</td>\n",
       "      <td>76</td>\n",
       "      <td>81</td>\n",
       "      <td>23</td>\n",
       "      <td>Italy</td>\n",
       "    </tr>\n",
       "    <tr>\n",
       "      <th>Kasper Schmeichel</th>\n",
       "      <td>89</td>\n",
       "      <td>83</td>\n",
       "      <td>77</td>\n",
       "      <td>36</td>\n",
       "      <td>Denmark</td>\n",
       "    </tr>\n",
       "  </tbody>\n",
       "</table>\n",
       "</div>"
      ],
      "text/plain": [
       "                       Reflexes  Kicking  Handling  Age Nationality\n",
       "PlayerName                                                         \n",
       "Jan Oblak                    90       78        92   29    Slovenia\n",
       "Marc-André ter Stegen        90       88        85   30     Germany\n",
       "Keylor Navas Gamboa          90       75        81   36  Costa Rica\n",
       "Hugo Lloris                  90       68        82   36      France\n",
       "Alisson Ramsés Becker        89       85        88   30      Brazil\n",
       "Manuel Neuer                 89       91        87   36     Germany\n",
       "Samir Handanovič             89       73        85   38    Slovenia\n",
       "David De Gea Quintana        89       78        81   32       Spain\n",
       "Gianluigi Donnarumma         89       76        81   23       Italy\n",
       "Kasper Schmeichel            89       83        77   36     Denmark"
      ]
     },
     "execution_count": 169,
     "metadata": {},
     "output_type": "execute_result"
    }
   ],
   "source": [
    "goal_keeper = df[[\"Reflexes\",\"PlayerName\",\"Kicking\",\"Handling\",'Age','Nationality']].nlargest(10, ['Reflexes']).set_index('PlayerName')\n",
    "goal_keeper"
   ]
  },
  {
   "cell_type": "code",
   "execution_count": 176,
   "metadata": {},
   "outputs": [],
   "source": [
    "def getPlayer(data, playerName):\n",
    "    return data[data['PlayerName'] == playerName].reset_index()"
   ]
  },
  {
   "cell_type": "code",
   "execution_count": 179,
   "metadata": {},
   "outputs": [
    {
     "data": {
      "text/html": [
       "<div>\n",
       "<style scoped>\n",
       "    .dataframe tbody tr th:only-of-type {\n",
       "        vertical-align: middle;\n",
       "    }\n",
       "\n",
       "    .dataframe tbody tr th {\n",
       "        vertical-align: top;\n",
       "    }\n",
       "\n",
       "    .dataframe thead th {\n",
       "        text-align: right;\n",
       "    }\n",
       "</style>\n",
       "<table border=\"1\" class=\"dataframe\">\n",
       "  <thead>\n",
       "    <tr style=\"text-align: right;\">\n",
       "      <th></th>\n",
       "      <th>PlayerName</th>\n",
       "      <th>PlayerHeight</th>\n",
       "      <th>PlayerWeight</th>\n",
       "      <th>PotentialRating</th>\n",
       "      <th>BestPositions</th>\n",
       "      <th>BestOverallRating</th>\n",
       "      <th>PlayerValue</th>\n",
       "      <th>Wage</th>\n",
       "      <th>Nationality</th>\n",
       "      <th>Crossing</th>\n",
       "      <th>...</th>\n",
       "      <th>SkillMoves</th>\n",
       "      <th>InternationalReputations</th>\n",
       "      <th>WorkRate</th>\n",
       "      <th>BodyType</th>\n",
       "      <th>Dribbling</th>\n",
       "      <th>Curve</th>\n",
       "      <th>FreekickAccuracy</th>\n",
       "      <th>LongPassing</th>\n",
       "      <th>BallControl</th>\n",
       "      <th>Age</th>\n",
       "    </tr>\n",
       "  </thead>\n",
       "  <tbody>\n",
       "    <tr>\n",
       "      <th>0</th>\n",
       "      <td>Lionel Andrés Messi Cuccittini</td>\n",
       "      <td>170</td>\n",
       "      <td>72</td>\n",
       "      <td>93</td>\n",
       "      <td>RW</td>\n",
       "      <td>93</td>\n",
       "      <td>103500000</td>\n",
       "      <td>560000</td>\n",
       "      <td>Argentina</td>\n",
       "      <td>85</td>\n",
       "      <td>...</td>\n",
       "      <td>4</td>\n",
       "      <td>5</td>\n",
       "      <td>Medium/ Low</td>\n",
       "      <td>Unique</td>\n",
       "      <td>96</td>\n",
       "      <td>93</td>\n",
       "      <td>94</td>\n",
       "      <td>91</td>\n",
       "      <td>96</td>\n",
       "      <td>35</td>\n",
       "    </tr>\n",
       "  </tbody>\n",
       "</table>\n",
       "<p>1 rows × 50 columns</p>\n",
       "</div>"
      ],
      "text/plain": [
       "                       PlayerName  PlayerHeight  PlayerWeight  \\\n",
       "0  Lionel Andrés Messi Cuccittini           170            72   \n",
       "\n",
       "   PotentialRating BestPositions  BestOverallRating  PlayerValue    Wage  \\\n",
       "0               93            RW                 93    103500000  560000   \n",
       "\n",
       "  Nationality  Crossing  ...  SkillMoves  InternationalReputations  \\\n",
       "0   Argentina        85  ...           4                         5   \n",
       "\n",
       "      WorkRate  BodyType  Dribbling  Curve  FreekickAccuracy  LongPassing  \\\n",
       "0  Medium/ Low    Unique         96     93                94           91   \n",
       "\n",
       "   BallControl  Age  \n",
       "0           96   35  \n",
       "\n",
       "[1 rows x 50 columns]"
      ]
     },
     "execution_count": 179,
     "metadata": {},
     "output_type": "execute_result"
    }
   ],
   "source": [
    "playerData = getPlayer(df, 'Lionel Andrés Messi Cuccittini')\n",
    "playerData"
   ]
  },
  {
   "cell_type": "code",
   "execution_count": 185,
   "metadata": {},
   "outputs": [],
   "source": [
    "preferred_foot_labels = df[\"PreferredFoot\"].value_counts().index # (Right,Left) \n",
    "preferred_foot_values = df[\"PreferredFoot\"].value_counts().values # (Right Values, Left Values)"
   ]
  },
  {
   "cell_type": "code",
   "execution_count": 186,
   "metadata": {},
   "outputs": [
    {
     "data": {
      "text/plain": [
       "Index(['Right', 'Left'], dtype='object')"
      ]
     },
     "execution_count": 186,
     "metadata": {},
     "output_type": "execute_result"
    }
   ],
   "source": [
    "preferred_foot_labels"
   ]
  },
  {
   "cell_type": "code",
   "execution_count": 189,
   "metadata": {},
   "outputs": [
    {
     "data": {
      "application/vnd.plotly.v1+json": {
       "config": {
        "plotlyServerURL": "https://plot.ly"
       },
       "data": [
        {
         "domain": {
          "x": [
           0,
           1
          ],
          "y": [
           0,
           1
          ]
         },
         "hovertemplate": "label=%{label}<br>value=%{value}<extra></extra>",
         "labels": [
          "Right",
          "Left"
         ],
         "legendgroup": "",
         "name": "",
         "showlegend": true,
         "type": "pie",
         "values": [
          14470,
          4532
         ]
        }
       ],
       "layout": {
        "legend": {
         "tracegroupgap": 0
        },
        "template": {
         "data": {
          "bar": [
           {
            "error_x": {
             "color": "#2a3f5f"
            },
            "error_y": {
             "color": "#2a3f5f"
            },
            "marker": {
             "line": {
              "color": "#E5ECF6",
              "width": 0.5
             },
             "pattern": {
              "fillmode": "overlay",
              "size": 10,
              "solidity": 0.2
             }
            },
            "type": "bar"
           }
          ],
          "barpolar": [
           {
            "marker": {
             "line": {
              "color": "#E5ECF6",
              "width": 0.5
             },
             "pattern": {
              "fillmode": "overlay",
              "size": 10,
              "solidity": 0.2
             }
            },
            "type": "barpolar"
           }
          ],
          "carpet": [
           {
            "aaxis": {
             "endlinecolor": "#2a3f5f",
             "gridcolor": "white",
             "linecolor": "white",
             "minorgridcolor": "white",
             "startlinecolor": "#2a3f5f"
            },
            "baxis": {
             "endlinecolor": "#2a3f5f",
             "gridcolor": "white",
             "linecolor": "white",
             "minorgridcolor": "white",
             "startlinecolor": "#2a3f5f"
            },
            "type": "carpet"
           }
          ],
          "choropleth": [
           {
            "colorbar": {
             "outlinewidth": 0,
             "ticks": ""
            },
            "type": "choropleth"
           }
          ],
          "contour": [
           {
            "colorbar": {
             "outlinewidth": 0,
             "ticks": ""
            },
            "colorscale": [
             [
              0,
              "#0d0887"
             ],
             [
              0.1111111111111111,
              "#46039f"
             ],
             [
              0.2222222222222222,
              "#7201a8"
             ],
             [
              0.3333333333333333,
              "#9c179e"
             ],
             [
              0.4444444444444444,
              "#bd3786"
             ],
             [
              0.5555555555555556,
              "#d8576b"
             ],
             [
              0.6666666666666666,
              "#ed7953"
             ],
             [
              0.7777777777777778,
              "#fb9f3a"
             ],
             [
              0.8888888888888888,
              "#fdca26"
             ],
             [
              1,
              "#f0f921"
             ]
            ],
            "type": "contour"
           }
          ],
          "contourcarpet": [
           {
            "colorbar": {
             "outlinewidth": 0,
             "ticks": ""
            },
            "type": "contourcarpet"
           }
          ],
          "heatmap": [
           {
            "colorbar": {
             "outlinewidth": 0,
             "ticks": ""
            },
            "colorscale": [
             [
              0,
              "#0d0887"
             ],
             [
              0.1111111111111111,
              "#46039f"
             ],
             [
              0.2222222222222222,
              "#7201a8"
             ],
             [
              0.3333333333333333,
              "#9c179e"
             ],
             [
              0.4444444444444444,
              "#bd3786"
             ],
             [
              0.5555555555555556,
              "#d8576b"
             ],
             [
              0.6666666666666666,
              "#ed7953"
             ],
             [
              0.7777777777777778,
              "#fb9f3a"
             ],
             [
              0.8888888888888888,
              "#fdca26"
             ],
             [
              1,
              "#f0f921"
             ]
            ],
            "type": "heatmap"
           }
          ],
          "heatmapgl": [
           {
            "colorbar": {
             "outlinewidth": 0,
             "ticks": ""
            },
            "colorscale": [
             [
              0,
              "#0d0887"
             ],
             [
              0.1111111111111111,
              "#46039f"
             ],
             [
              0.2222222222222222,
              "#7201a8"
             ],
             [
              0.3333333333333333,
              "#9c179e"
             ],
             [
              0.4444444444444444,
              "#bd3786"
             ],
             [
              0.5555555555555556,
              "#d8576b"
             ],
             [
              0.6666666666666666,
              "#ed7953"
             ],
             [
              0.7777777777777778,
              "#fb9f3a"
             ],
             [
              0.8888888888888888,
              "#fdca26"
             ],
             [
              1,
              "#f0f921"
             ]
            ],
            "type": "heatmapgl"
           }
          ],
          "histogram": [
           {
            "marker": {
             "pattern": {
              "fillmode": "overlay",
              "size": 10,
              "solidity": 0.2
             }
            },
            "type": "histogram"
           }
          ],
          "histogram2d": [
           {
            "colorbar": {
             "outlinewidth": 0,
             "ticks": ""
            },
            "colorscale": [
             [
              0,
              "#0d0887"
             ],
             [
              0.1111111111111111,
              "#46039f"
             ],
             [
              0.2222222222222222,
              "#7201a8"
             ],
             [
              0.3333333333333333,
              "#9c179e"
             ],
             [
              0.4444444444444444,
              "#bd3786"
             ],
             [
              0.5555555555555556,
              "#d8576b"
             ],
             [
              0.6666666666666666,
              "#ed7953"
             ],
             [
              0.7777777777777778,
              "#fb9f3a"
             ],
             [
              0.8888888888888888,
              "#fdca26"
             ],
             [
              1,
              "#f0f921"
             ]
            ],
            "type": "histogram2d"
           }
          ],
          "histogram2dcontour": [
           {
            "colorbar": {
             "outlinewidth": 0,
             "ticks": ""
            },
            "colorscale": [
             [
              0,
              "#0d0887"
             ],
             [
              0.1111111111111111,
              "#46039f"
             ],
             [
              0.2222222222222222,
              "#7201a8"
             ],
             [
              0.3333333333333333,
              "#9c179e"
             ],
             [
              0.4444444444444444,
              "#bd3786"
             ],
             [
              0.5555555555555556,
              "#d8576b"
             ],
             [
              0.6666666666666666,
              "#ed7953"
             ],
             [
              0.7777777777777778,
              "#fb9f3a"
             ],
             [
              0.8888888888888888,
              "#fdca26"
             ],
             [
              1,
              "#f0f921"
             ]
            ],
            "type": "histogram2dcontour"
           }
          ],
          "mesh3d": [
           {
            "colorbar": {
             "outlinewidth": 0,
             "ticks": ""
            },
            "type": "mesh3d"
           }
          ],
          "parcoords": [
           {
            "line": {
             "colorbar": {
              "outlinewidth": 0,
              "ticks": ""
             }
            },
            "type": "parcoords"
           }
          ],
          "pie": [
           {
            "automargin": true,
            "type": "pie"
           }
          ],
          "scatter": [
           {
            "fillpattern": {
             "fillmode": "overlay",
             "size": 10,
             "solidity": 0.2
            },
            "type": "scatter"
           }
          ],
          "scatter3d": [
           {
            "line": {
             "colorbar": {
              "outlinewidth": 0,
              "ticks": ""
             }
            },
            "marker": {
             "colorbar": {
              "outlinewidth": 0,
              "ticks": ""
             }
            },
            "type": "scatter3d"
           }
          ],
          "scattercarpet": [
           {
            "marker": {
             "colorbar": {
              "outlinewidth": 0,
              "ticks": ""
             }
            },
            "type": "scattercarpet"
           }
          ],
          "scattergeo": [
           {
            "marker": {
             "colorbar": {
              "outlinewidth": 0,
              "ticks": ""
             }
            },
            "type": "scattergeo"
           }
          ],
          "scattergl": [
           {
            "marker": {
             "colorbar": {
              "outlinewidth": 0,
              "ticks": ""
             }
            },
            "type": "scattergl"
           }
          ],
          "scattermapbox": [
           {
            "marker": {
             "colorbar": {
              "outlinewidth": 0,
              "ticks": ""
             }
            },
            "type": "scattermapbox"
           }
          ],
          "scatterpolar": [
           {
            "marker": {
             "colorbar": {
              "outlinewidth": 0,
              "ticks": ""
             }
            },
            "type": "scatterpolar"
           }
          ],
          "scatterpolargl": [
           {
            "marker": {
             "colorbar": {
              "outlinewidth": 0,
              "ticks": ""
             }
            },
            "type": "scatterpolargl"
           }
          ],
          "scatterternary": [
           {
            "marker": {
             "colorbar": {
              "outlinewidth": 0,
              "ticks": ""
             }
            },
            "type": "scatterternary"
           }
          ],
          "surface": [
           {
            "colorbar": {
             "outlinewidth": 0,
             "ticks": ""
            },
            "colorscale": [
             [
              0,
              "#0d0887"
             ],
             [
              0.1111111111111111,
              "#46039f"
             ],
             [
              0.2222222222222222,
              "#7201a8"
             ],
             [
              0.3333333333333333,
              "#9c179e"
             ],
             [
              0.4444444444444444,
              "#bd3786"
             ],
             [
              0.5555555555555556,
              "#d8576b"
             ],
             [
              0.6666666666666666,
              "#ed7953"
             ],
             [
              0.7777777777777778,
              "#fb9f3a"
             ],
             [
              0.8888888888888888,
              "#fdca26"
             ],
             [
              1,
              "#f0f921"
             ]
            ],
            "type": "surface"
           }
          ],
          "table": [
           {
            "cells": {
             "fill": {
              "color": "#EBF0F8"
             },
             "line": {
              "color": "white"
             }
            },
            "header": {
             "fill": {
              "color": "#C8D4E3"
             },
             "line": {
              "color": "white"
             }
            },
            "type": "table"
           }
          ]
         },
         "layout": {
          "annotationdefaults": {
           "arrowcolor": "#2a3f5f",
           "arrowhead": 0,
           "arrowwidth": 1
          },
          "autotypenumbers": "strict",
          "coloraxis": {
           "colorbar": {
            "outlinewidth": 0,
            "ticks": ""
           }
          },
          "colorscale": {
           "diverging": [
            [
             0,
             "#8e0152"
            ],
            [
             0.1,
             "#c51b7d"
            ],
            [
             0.2,
             "#de77ae"
            ],
            [
             0.3,
             "#f1b6da"
            ],
            [
             0.4,
             "#fde0ef"
            ],
            [
             0.5,
             "#f7f7f7"
            ],
            [
             0.6,
             "#e6f5d0"
            ],
            [
             0.7,
             "#b8e186"
            ],
            [
             0.8,
             "#7fbc41"
            ],
            [
             0.9,
             "#4d9221"
            ],
            [
             1,
             "#276419"
            ]
           ],
           "sequential": [
            [
             0,
             "#0d0887"
            ],
            [
             0.1111111111111111,
             "#46039f"
            ],
            [
             0.2222222222222222,
             "#7201a8"
            ],
            [
             0.3333333333333333,
             "#9c179e"
            ],
            [
             0.4444444444444444,
             "#bd3786"
            ],
            [
             0.5555555555555556,
             "#d8576b"
            ],
            [
             0.6666666666666666,
             "#ed7953"
            ],
            [
             0.7777777777777778,
             "#fb9f3a"
            ],
            [
             0.8888888888888888,
             "#fdca26"
            ],
            [
             1,
             "#f0f921"
            ]
           ],
           "sequentialminus": [
            [
             0,
             "#0d0887"
            ],
            [
             0.1111111111111111,
             "#46039f"
            ],
            [
             0.2222222222222222,
             "#7201a8"
            ],
            [
             0.3333333333333333,
             "#9c179e"
            ],
            [
             0.4444444444444444,
             "#bd3786"
            ],
            [
             0.5555555555555556,
             "#d8576b"
            ],
            [
             0.6666666666666666,
             "#ed7953"
            ],
            [
             0.7777777777777778,
             "#fb9f3a"
            ],
            [
             0.8888888888888888,
             "#fdca26"
            ],
            [
             1,
             "#f0f921"
            ]
           ]
          },
          "colorway": [
           "#636efa",
           "#EF553B",
           "#00cc96",
           "#ab63fa",
           "#FFA15A",
           "#19d3f3",
           "#FF6692",
           "#B6E880",
           "#FF97FF",
           "#FECB52"
          ],
          "font": {
           "color": "#2a3f5f"
          },
          "geo": {
           "bgcolor": "white",
           "lakecolor": "white",
           "landcolor": "#E5ECF6",
           "showlakes": true,
           "showland": true,
           "subunitcolor": "white"
          },
          "hoverlabel": {
           "align": "left"
          },
          "hovermode": "closest",
          "mapbox": {
           "style": "light"
          },
          "paper_bgcolor": "white",
          "plot_bgcolor": "#E5ECF6",
          "polar": {
           "angularaxis": {
            "gridcolor": "white",
            "linecolor": "white",
            "ticks": ""
           },
           "bgcolor": "#E5ECF6",
           "radialaxis": {
            "gridcolor": "white",
            "linecolor": "white",
            "ticks": ""
           }
          },
          "scene": {
           "xaxis": {
            "backgroundcolor": "#E5ECF6",
            "gridcolor": "white",
            "gridwidth": 2,
            "linecolor": "white",
            "showbackground": true,
            "ticks": "",
            "zerolinecolor": "white"
           },
           "yaxis": {
            "backgroundcolor": "#E5ECF6",
            "gridcolor": "white",
            "gridwidth": 2,
            "linecolor": "white",
            "showbackground": true,
            "ticks": "",
            "zerolinecolor": "white"
           },
           "zaxis": {
            "backgroundcolor": "#E5ECF6",
            "gridcolor": "white",
            "gridwidth": 2,
            "linecolor": "white",
            "showbackground": true,
            "ticks": "",
            "zerolinecolor": "white"
           }
          },
          "shapedefaults": {
           "line": {
            "color": "#2a3f5f"
           }
          },
          "ternary": {
           "aaxis": {
            "gridcolor": "white",
            "linecolor": "white",
            "ticks": ""
           },
           "baxis": {
            "gridcolor": "white",
            "linecolor": "white",
            "ticks": ""
           },
           "bgcolor": "#E5ECF6",
           "caxis": {
            "gridcolor": "white",
            "linecolor": "white",
            "ticks": ""
           }
          },
          "title": {
           "x": 0.05
          },
          "xaxis": {
           "automargin": true,
           "gridcolor": "white",
           "linecolor": "white",
           "ticks": "",
           "title": {
            "standoff": 15
           },
           "zerolinecolor": "white",
           "zerolinewidth": 2
          },
          "yaxis": {
           "automargin": true,
           "gridcolor": "white",
           "linecolor": "white",
           "ticks": "",
           "title": {
            "standoff": 15
           },
           "zerolinecolor": "white",
           "zerolinewidth": 2
          }
         }
        },
        "title": {
         "text": "Preferred Foot"
        }
       }
      }
     },
     "metadata": {},
     "output_type": "display_data"
    }
   ],
   "source": [
    "import plotly.express as px\n",
    "fig = px.pie(df, values=preferred_foot_values, names=preferred_foot_labels, title='Preferred Foot')\n",
    "fig.show()"
   ]
  }
 ],
 "metadata": {
  "kernelspec": {
   "display_name": "Python 3.9.7 64-bit (system)",
   "language": "python",
   "name": "python3"
  },
  "language_info": {
   "codemirror_mode": {
    "name": "ipython",
    "version": 3
   },
   "file_extension": ".py",
   "mimetype": "text/x-python",
   "name": "python",
   "nbconvert_exporter": "python",
   "pygments_lexer": "ipython3",
   "version": "3.9.7"
  },
  "orig_nbformat": 4,
  "vscode": {
   "interpreter": {
    "hash": "2d3d67bca61be5df9fd9c7a8d91eb8b0a842e6a3999cef13423944fab7587524"
   }
  }
 },
 "nbformat": 4,
 "nbformat_minor": 2
}
